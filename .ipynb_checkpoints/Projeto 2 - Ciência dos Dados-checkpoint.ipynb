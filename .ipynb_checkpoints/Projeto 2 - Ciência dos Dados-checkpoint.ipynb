{
 "cells": [
  {
   "cell_type": "markdown",
   "metadata": {},
   "source": [
    "# Sobreviência a falhas cardíacas\n",
    "### Feito por Carolina Hirschheimer e Ralph Michaan"
   ]
  },
  {
   "cell_type": "markdown",
   "metadata": {},
   "source": [
    "O estudo a seguir visa prever, após certo tempo, a <b> sobrevivência </b> de um paciente após ter sofrido uma <b> falha caríaca</b>, a partir dos dados clínicos do paciente. Com isso, poderemos ter uma ideia da urgência do tratamento que o hospital precisa dar para determinado paciente, e assim, ter mais chance de salvar mais vidas. Para tanto, será utilizada uma base de dados contendo:\n",
    "\n",
    "- a idade do paciente (age), em anos;\n",
    "- se ele tem anemia(anaemia) - categórica(sim/não);\n",
    "- a taxa de concetração de fosfocreatinina no sangue(creatinine_phosphokinase), em (mcg/L);\n",
    "- a taxa de ejeção de sangue pelo coração(ejection_fraction), em porcentagem;\n",
    "- se ele tem pressão alta(high_blood_pressure) - categórica(sim/não);\n",
    "- a concentração de plaquetas no sangue(platelets), em (quiloplaquetas/mL);\n",
    "- soro creatinina(serum_creatinine), em (mg/dL);\n",
    "- soro sódio(serum_sodium), em (mEq/L);\n",
    "- o seu sexo(sex) - categórica(mulher/homem);\n",
    "- se ele fuma(smoking) - categórica(sim/não); \n",
    "- o período de tempo que já passou desde a falha cardíaca(time), em dias; \n",
    "- a ocorrência ou não de morte(DEATH_EVENT) - categórica(sim/não).\n",
    "\n",
    "Nas variáveis categóricas, o 0 representa o \"não\" e o 1, o \"sim\", com excessão do sexo, em que o 0 representa as mulheres, e o 1 os homens."
   ]
  },
  {
   "cell_type": "markdown",
   "metadata": {},
   "source": [
    "Nós pegamos a base de dados do kaggle, e ela está disponível nesse link: https://www.kaggle.com/andrewmvd/heart-failure-clinical-data"
   ]
  },
  {
   "cell_type": "markdown",
   "metadata": {},
   "source": [
    "## Análise exploratória dos dados"
   ]
  },
  {
   "cell_type": "markdown",
   "metadata": {},
   "source": [
    "Vamos começar importanto algumas bibliotecas que serão utilizadas no código."
   ]
  },
  {
   "cell_type": "code",
   "execution_count": 1,
   "metadata": {},
   "outputs": [],
   "source": [
    "%matplotlib inline\n",
    "import pandas as pd\n",
    "import numpy as np\n",
    "from scipy.stats import norm, probplot\n",
    "import statsmodels.api as sm\n",
    "import matplotlib.pyplot as plt\n",
    "import seaborn as sns\n",
    "\n",
    "from mpl_toolkits.mplot3d import Axes3D\n",
    "\n",
    "# Para ter melhor print\n",
    "from IPython.display import display\n",
    "\n",
    "# Para evitar \"Future Warnings\" sujando o código\n",
    "import warnings\n",
    "warnings.simplefilter(action='ignore', category=FutureWarning)"
   ]
  },
  {
   "cell_type": "markdown",
   "metadata": {},
   "source": [
    "###### Lendo os dados"
   ]
  },
  {
   "cell_type": "code",
   "execution_count": 2,
   "metadata": {},
   "outputs": [
    {
     "data": {
      "text/html": [
       "<div>\n",
       "<style scoped>\n",
       "    .dataframe tbody tr th:only-of-type {\n",
       "        vertical-align: middle;\n",
       "    }\n",
       "\n",
       "    .dataframe tbody tr th {\n",
       "        vertical-align: top;\n",
       "    }\n",
       "\n",
       "    .dataframe thead th {\n",
       "        text-align: right;\n",
       "    }\n",
       "</style>\n",
       "<table border=\"1\" class=\"dataframe\">\n",
       "  <thead>\n",
       "    <tr style=\"text-align: right;\">\n",
       "      <th></th>\n",
       "      <th>age</th>\n",
       "      <th>anaemia</th>\n",
       "      <th>creatinine_phosphokinase</th>\n",
       "      <th>diabetes</th>\n",
       "      <th>ejection_fraction</th>\n",
       "      <th>high_blood_pressure</th>\n",
       "      <th>platelets</th>\n",
       "      <th>serum_creatinine</th>\n",
       "      <th>serum_sodium</th>\n",
       "      <th>sex</th>\n",
       "      <th>smoking</th>\n",
       "      <th>time</th>\n",
       "      <th>DEATH_EVENT</th>\n",
       "    </tr>\n",
       "  </thead>\n",
       "  <tbody>\n",
       "    <tr>\n",
       "      <td>0</td>\n",
       "      <td>75.0</td>\n",
       "      <td>0</td>\n",
       "      <td>582</td>\n",
       "      <td>0</td>\n",
       "      <td>20</td>\n",
       "      <td>1</td>\n",
       "      <td>265000.00</td>\n",
       "      <td>1.9</td>\n",
       "      <td>130</td>\n",
       "      <td>1</td>\n",
       "      <td>0</td>\n",
       "      <td>4</td>\n",
       "      <td>1</td>\n",
       "    </tr>\n",
       "    <tr>\n",
       "      <td>1</td>\n",
       "      <td>55.0</td>\n",
       "      <td>0</td>\n",
       "      <td>7861</td>\n",
       "      <td>0</td>\n",
       "      <td>38</td>\n",
       "      <td>0</td>\n",
       "      <td>263358.03</td>\n",
       "      <td>1.1</td>\n",
       "      <td>136</td>\n",
       "      <td>1</td>\n",
       "      <td>0</td>\n",
       "      <td>6</td>\n",
       "      <td>1</td>\n",
       "    </tr>\n",
       "    <tr>\n",
       "      <td>2</td>\n",
       "      <td>65.0</td>\n",
       "      <td>0</td>\n",
       "      <td>146</td>\n",
       "      <td>0</td>\n",
       "      <td>20</td>\n",
       "      <td>0</td>\n",
       "      <td>162000.00</td>\n",
       "      <td>1.3</td>\n",
       "      <td>129</td>\n",
       "      <td>1</td>\n",
       "      <td>1</td>\n",
       "      <td>7</td>\n",
       "      <td>1</td>\n",
       "    </tr>\n",
       "    <tr>\n",
       "      <td>3</td>\n",
       "      <td>50.0</td>\n",
       "      <td>1</td>\n",
       "      <td>111</td>\n",
       "      <td>0</td>\n",
       "      <td>20</td>\n",
       "      <td>0</td>\n",
       "      <td>210000.00</td>\n",
       "      <td>1.9</td>\n",
       "      <td>137</td>\n",
       "      <td>1</td>\n",
       "      <td>0</td>\n",
       "      <td>7</td>\n",
       "      <td>1</td>\n",
       "    </tr>\n",
       "    <tr>\n",
       "      <td>4</td>\n",
       "      <td>65.0</td>\n",
       "      <td>1</td>\n",
       "      <td>160</td>\n",
       "      <td>1</td>\n",
       "      <td>20</td>\n",
       "      <td>0</td>\n",
       "      <td>327000.00</td>\n",
       "      <td>2.7</td>\n",
       "      <td>116</td>\n",
       "      <td>0</td>\n",
       "      <td>0</td>\n",
       "      <td>8</td>\n",
       "      <td>1</td>\n",
       "    </tr>\n",
       "    <tr>\n",
       "      <td>...</td>\n",
       "      <td>...</td>\n",
       "      <td>...</td>\n",
       "      <td>...</td>\n",
       "      <td>...</td>\n",
       "      <td>...</td>\n",
       "      <td>...</td>\n",
       "      <td>...</td>\n",
       "      <td>...</td>\n",
       "      <td>...</td>\n",
       "      <td>...</td>\n",
       "      <td>...</td>\n",
       "      <td>...</td>\n",
       "      <td>...</td>\n",
       "    </tr>\n",
       "    <tr>\n",
       "      <td>294</td>\n",
       "      <td>62.0</td>\n",
       "      <td>0</td>\n",
       "      <td>61</td>\n",
       "      <td>1</td>\n",
       "      <td>38</td>\n",
       "      <td>1</td>\n",
       "      <td>155000.00</td>\n",
       "      <td>1.1</td>\n",
       "      <td>143</td>\n",
       "      <td>1</td>\n",
       "      <td>1</td>\n",
       "      <td>270</td>\n",
       "      <td>0</td>\n",
       "    </tr>\n",
       "    <tr>\n",
       "      <td>295</td>\n",
       "      <td>55.0</td>\n",
       "      <td>0</td>\n",
       "      <td>1820</td>\n",
       "      <td>0</td>\n",
       "      <td>38</td>\n",
       "      <td>0</td>\n",
       "      <td>270000.00</td>\n",
       "      <td>1.2</td>\n",
       "      <td>139</td>\n",
       "      <td>0</td>\n",
       "      <td>0</td>\n",
       "      <td>271</td>\n",
       "      <td>0</td>\n",
       "    </tr>\n",
       "    <tr>\n",
       "      <td>296</td>\n",
       "      <td>45.0</td>\n",
       "      <td>0</td>\n",
       "      <td>2060</td>\n",
       "      <td>1</td>\n",
       "      <td>60</td>\n",
       "      <td>0</td>\n",
       "      <td>742000.00</td>\n",
       "      <td>0.8</td>\n",
       "      <td>138</td>\n",
       "      <td>0</td>\n",
       "      <td>0</td>\n",
       "      <td>278</td>\n",
       "      <td>0</td>\n",
       "    </tr>\n",
       "    <tr>\n",
       "      <td>297</td>\n",
       "      <td>45.0</td>\n",
       "      <td>0</td>\n",
       "      <td>2413</td>\n",
       "      <td>0</td>\n",
       "      <td>38</td>\n",
       "      <td>0</td>\n",
       "      <td>140000.00</td>\n",
       "      <td>1.4</td>\n",
       "      <td>140</td>\n",
       "      <td>1</td>\n",
       "      <td>1</td>\n",
       "      <td>280</td>\n",
       "      <td>0</td>\n",
       "    </tr>\n",
       "    <tr>\n",
       "      <td>298</td>\n",
       "      <td>50.0</td>\n",
       "      <td>0</td>\n",
       "      <td>196</td>\n",
       "      <td>0</td>\n",
       "      <td>45</td>\n",
       "      <td>0</td>\n",
       "      <td>395000.00</td>\n",
       "      <td>1.6</td>\n",
       "      <td>136</td>\n",
       "      <td>1</td>\n",
       "      <td>1</td>\n",
       "      <td>285</td>\n",
       "      <td>0</td>\n",
       "    </tr>\n",
       "  </tbody>\n",
       "</table>\n",
       "<p>299 rows × 13 columns</p>\n",
       "</div>"
      ],
      "text/plain": [
       "      age  anaemia  creatinine_phosphokinase  diabetes  ejection_fraction  \\\n",
       "0    75.0        0                       582         0                 20   \n",
       "1    55.0        0                      7861         0                 38   \n",
       "2    65.0        0                       146         0                 20   \n",
       "3    50.0        1                       111         0                 20   \n",
       "4    65.0        1                       160         1                 20   \n",
       "..    ...      ...                       ...       ...                ...   \n",
       "294  62.0        0                        61         1                 38   \n",
       "295  55.0        0                      1820         0                 38   \n",
       "296  45.0        0                      2060         1                 60   \n",
       "297  45.0        0                      2413         0                 38   \n",
       "298  50.0        0                       196         0                 45   \n",
       "\n",
       "     high_blood_pressure  platelets  serum_creatinine  serum_sodium  sex  \\\n",
       "0                      1  265000.00               1.9           130    1   \n",
       "1                      0  263358.03               1.1           136    1   \n",
       "2                      0  162000.00               1.3           129    1   \n",
       "3                      0  210000.00               1.9           137    1   \n",
       "4                      0  327000.00               2.7           116    0   \n",
       "..                   ...        ...               ...           ...  ...   \n",
       "294                    1  155000.00               1.1           143    1   \n",
       "295                    0  270000.00               1.2           139    0   \n",
       "296                    0  742000.00               0.8           138    0   \n",
       "297                    0  140000.00               1.4           140    1   \n",
       "298                    0  395000.00               1.6           136    1   \n",
       "\n",
       "     smoking  time  DEATH_EVENT  \n",
       "0          0     4            1  \n",
       "1          0     6            1  \n",
       "2          1     7            1  \n",
       "3          0     7            1  \n",
       "4          0     8            1  \n",
       "..       ...   ...          ...  \n",
       "294        1   270            0  \n",
       "295        0   271            0  \n",
       "296        0   278            0  \n",
       "297        1   280            0  \n",
       "298        1   285            0  \n",
       "\n",
       "[299 rows x 13 columns]"
      ]
     },
     "execution_count": 2,
     "metadata": {},
     "output_type": "execute_result"
    }
   ],
   "source": [
    "dados = pd.read_csv(\"heart_failure_clinical_records_dataset.csv\")\n",
    "dados"
   ]
  },
  {
   "cell_type": "markdown",
   "metadata": {},
   "source": [
    "Vamos começar criando os histogramas das informações contidas no dataset, para fazer uma análise exploratória inicial."
   ]
  },
  {
   "cell_type": "code",
   "execution_count": 3,
   "metadata": {},
   "outputs": [
    {
     "data": {
      "image/png": "[encoded data removed]",
      "text/plain": [
       "<Figure size 1440x2160 with 13 Axes>"
      ]
     },
     "metadata": {
      "needs_background": "light"
     },
     "output_type": "display_data"
    }
   ],
   "source": [
    "# FREQUÊNCIA DAS VARIÁVEIS QUANTITATIVAS\n",
    "\n",
    "plt.figure(figsize=(20, 30))\n",
    "\n",
    "plt.subplot(531)\n",
    "plt.hist(dados.age, edgecolor='white', density=True)\n",
    "plt.title('Idade')\n",
    "plt.xlabel('Idade (Anos)')\n",
    "plt.ylabel('Densidade')\n",
    "\n",
    "plt.subplot(532)\n",
    "plt.hist(dados.anaemia, edgecolor='white', density=True)\n",
    "plt.title('Anemia')\n",
    "plt.xlabel('Não tem / Tem')\n",
    "plt.ylabel('Densidade')\n",
    "\n",
    "plt.subplot(533)\n",
    "plt.hist(dados.creatinine_phosphokinase, edgecolor='white', density=True)\n",
    "plt.title('Creatinofosfoquinase')\n",
    "plt.xlabel('creatinofosfoquinase (mcg/L)')\n",
    "plt.ylabel('Densidade')\n",
    "\n",
    "plt.subplot(534)\n",
    "plt.hist(dados.diabetes, edgecolor='white', density=True)\n",
    "plt.title('Diabete')\n",
    "plt.xlabel('Não tem / Tem')\n",
    "plt.ylabel('Densidade')\n",
    "\n",
    "plt.subplot(535)\n",
    "plt.hist(dados.ejection_fraction, edgecolor='white', density=True)\n",
    "plt.title('Fração de ejeção de sangue do coração')\n",
    "plt.xlabel('Fração de ejeção (%)')\n",
    "plt.ylabel('Densidade')\n",
    "\n",
    "plt.subplot(536)\n",
    "plt.hist(dados.high_blood_pressure, edgecolor='white', density=True)\n",
    "plt.title('Pressão alta')\n",
    "plt.xlabel('Não tem / Tem')\n",
    "plt.ylabel('Densidade')\n",
    "\n",
    "plt.subplot(537)\n",
    "plt.hist(dados.platelets, edgecolor='white', density=True)\n",
    "plt.title('Plaquetas no sangue')\n",
    "plt.xlabel('Plaquetas (kiloplaquetas/mL)')\n",
    "plt.ylabel('Densidade')\n",
    "\n",
    "plt.subplot(538)\n",
    "plt.hist(dados.serum_creatinine, edgecolor='white', density=True)\n",
    "plt.title('Soro creatinina')\n",
    "plt.xlabel('Soro creatinina (mg/dL)')\n",
    "plt.ylabel('Densidade')\n",
    "\n",
    "plt.subplot(539)\n",
    "plt.hist(dados.serum_sodium, edgecolor='white', density=True)\n",
    "plt.title('Soro sódio')\n",
    "plt.xlabel('Soro sódio (mEq/L)')\n",
    "plt.ylabel('Densidade')\n",
    "\n",
    "plt.subplot(5,3,10)\n",
    "plt.hist(dados.sex, edgecolor='white', density=True)\n",
    "plt.title('Sexo')\n",
    "plt.xlabel('Mulheres / Homens')\n",
    "plt.ylabel('Densidade')\n",
    "\n",
    "plt.subplot(5,3,11)\n",
    "plt.hist(dados.smoking, edgecolor='white', density=True)\n",
    "plt.title('Fumantes')\n",
    "plt.xlabel('Não fuma / Fuma')\n",
    "plt.ylabel('Densidade')\n",
    "\n",
    "plt.subplot(5,3,12)\n",
    "plt.hist(dados.time, edgecolor='white', density=True)\n",
    "plt.title('Tempo de sobrevivência')\n",
    "plt.xlabel('Tempo (dias)')\n",
    "plt.ylabel('Densidade')\n",
    "\n",
    "plt.subplot(5,3,13)\n",
    "plt.hist(dados.DEATH_EVENT, edgecolor='white', density=True)\n",
    "plt.title('Fatalidade')\n",
    "plt.xlabel('Não / Sim')\n",
    "plt.ylabel('Densidade')\n",
    "\n",
    "plt.show()"
   ]
  },
  {
   "cell_type": "markdown",
   "metadata": {},
   "source": [
    "Agora, vamos pegar alguns valores numéricos das variáveis quantitativas, como quantidade de dados disponível(count), média(mean), desvio padrão(std), quartis (valor que está a 1/4 do começo - primeiro quartil(25%), valor do meio - mediana(50%), e valor que está a 3/4 do começo - terceiro quartil(75%) e valor mínimo(min) e máximo(max)."
   ]
  },
  {
   "cell_type": "code",
   "execution_count": 4,
   "metadata": {},
   "outputs": [
    {
     "data": {
      "text/plain": [
       "count    299.000000\n",
       "mean      60.833893\n",
       "std       11.894809\n",
       "min       40.000000\n",
       "25%       51.000000\n",
       "50%       60.000000\n",
       "75%       70.000000\n",
       "max       95.000000\n",
       "Name: age, dtype: float64"
      ]
     },
     "execution_count": 4,
     "metadata": {},
     "output_type": "execute_result"
    }
   ],
   "source": [
    "dados.age.describe()"
   ]
  },
  {
   "cell_type": "code",
   "execution_count": 5,
   "metadata": {},
   "outputs": [
    {
     "data": {
      "text/plain": [
       "count     299.000000\n",
       "mean      581.839465\n",
       "std       970.287881\n",
       "min        23.000000\n",
       "25%       116.500000\n",
       "50%       250.000000\n",
       "75%       582.000000\n",
       "max      7861.000000\n",
       "Name: creatinine_phosphokinase, dtype: float64"
      ]
     },
     "execution_count": 5,
     "metadata": {},
     "output_type": "execute_result"
    }
   ],
   "source": [
    "dados.creatinine_phosphokinase.describe()"
   ]
  },
  {
   "cell_type": "code",
   "execution_count": 6,
   "metadata": {},
   "outputs": [
    {
     "data": {
      "text/plain": [
       "count    299.000000\n",
       "mean      38.083612\n",
       "std       11.834841\n",
       "min       14.000000\n",
       "25%       30.000000\n",
       "50%       38.000000\n",
       "75%       45.000000\n",
       "max       80.000000\n",
       "Name: ejection_fraction, dtype: float64"
      ]
     },
     "execution_count": 6,
     "metadata": {},
     "output_type": "execute_result"
    }
   ],
   "source": [
    "dados.ejection_fraction.describe()"
   ]
  },
  {
   "cell_type": "code",
   "execution_count": 7,
   "metadata": {},
   "outputs": [
    {
     "data": {
      "text/plain": [
       "count       299.000000\n",
       "mean     263358.029264\n",
       "std       97804.236869\n",
       "min       25100.000000\n",
       "25%      212500.000000\n",
       "50%      262000.000000\n",
       "75%      303500.000000\n",
       "max      850000.000000\n",
       "Name: platelets, dtype: float64"
      ]
     },
     "execution_count": 7,
     "metadata": {},
     "output_type": "execute_result"
    }
   ],
   "source": [
    "dados.platelets.describe()"
   ]
  },
  {
   "cell_type": "code",
   "execution_count": 8,
   "metadata": {},
   "outputs": [
    {
     "data": {
      "text/plain": [
       "count    299.00000\n",
       "mean       1.39388\n",
       "std        1.03451\n",
       "min        0.50000\n",
       "25%        0.90000\n",
       "50%        1.10000\n",
       "75%        1.40000\n",
       "max        9.40000\n",
       "Name: serum_creatinine, dtype: float64"
      ]
     },
     "execution_count": 8,
     "metadata": {},
     "output_type": "execute_result"
    }
   ],
   "source": [
    "dados.serum_creatinine.describe()"
   ]
  },
  {
   "cell_type": "code",
   "execution_count": 9,
   "metadata": {},
   "outputs": [
    {
     "data": {
      "text/plain": [
       "count    299.000000\n",
       "mean     136.625418\n",
       "std        4.412477\n",
       "min      113.000000\n",
       "25%      134.000000\n",
       "50%      137.000000\n",
       "75%      140.000000\n",
       "max      148.000000\n",
       "Name: serum_sodium, dtype: float64"
      ]
     },
     "execution_count": 9,
     "metadata": {},
     "output_type": "execute_result"
    }
   ],
   "source": [
    "dados.serum_sodium.describe()"
   ]
  },
  {
   "cell_type": "code",
   "execution_count": 10,
   "metadata": {},
   "outputs": [
    {
     "data": {
      "text/plain": [
       "count    299.000000\n",
       "mean     130.260870\n",
       "std       77.614208\n",
       "min        4.000000\n",
       "25%       73.000000\n",
       "50%      115.000000\n",
       "75%      203.000000\n",
       "max      285.000000\n",
       "Name: time, dtype: float64"
      ]
     },
     "execution_count": 10,
     "metadata": {},
     "output_type": "execute_result"
    }
   ],
   "source": [
    "dados.time.describe()"
   ]
  },
  {
   "cell_type": "markdown",
   "metadata": {},
   "source": [
    "Utilizando o pairplot da biblioteca seaborn, vamos visualizar uma comparação entre cada variável do dataset, comparando com nosso target, que é a morte do paciente, para ver se há uma correlação forte ou fraca entre elas, e quando comparado com a própria variável, cria-se um histograma com a frequência dos valores das variáveis.\n",
    "\n",
    "O azul representa as pessoas que não morreram e o laranja as pessoas que morreram."
   ]
  },
  {
   "cell_type": "code",
   "execution_count": 11,
   "metadata": {},
   "outputs": [
    {
     "data": {
      "text/plain": [
       "'sns.pairplot(dados, hue=\"DEATH_EVENT\")'"
      ]
     },
     "execution_count": 11,
     "metadata": {},
     "output_type": "execute_result"
    }
   ],
   "source": [
    "\"\"\"sns.pairplot(dados, hue=\"DEATH_EVENT\")\"\"\""
   ]
  },
  {
   "cell_type": "markdown",
   "metadata": {},
   "source": [
    "A partir dos histogramas, parece que as pessoas com uma idade mais avançada morrem mais do que pessoas com idade menor, as pessoas com anemia também têm uma tendência maior de morte, já as pessoas com baixo nível de concentração de fosfocreatinina não tem como concluir se é bom ou ruim ter baixo nível, pois a taxa de morte é bem parecida para as pessoas com baixo, ou alto nível de concentração de fosfocreatinina. As pessoas com diabete parecem ter maior chance de sobrevivência, comparadas com pessoas que não têm, porém parece que a dibete influencia muito na morte, pois a taxa de sobrevivência é maior tanto dentre as pessoas com diabete, quanto sem.. Agora, quem têm baixa taxa de ejeção de sangue pelo coração têm mais chance de morrer. Vemos também que a taxa de sobrevivência é maior entre as pessoas que não têm pressão alta. Já a alta quantidade de plaquetas no sangue dá uma maior chance de sobrevivência ao paciente. Em relação a concentração de soro creatinina, quanto menor, maior a probabilidade de sobreviver, o contrário em relação a concentração de soro sódio, que quanto menor, mais chance de morte. Vemos entre os homens, assim como entre os não fumantes a maior quantidade de ataques cardíacos, e aparentemente a maior taxa de sobrevivência. E, por fim, em relação ao tempo, vemos que qunato mais tempo passou, maior a chance de sobrevivência.\n",
    "\n",
    "Agora, em relação aos gráficos de correlação entre as variáveis não têm como tirar alguma conclusão, portanto partimos para a criação de um mapa de calor da correlação entre as variáveis, também a partir dos dados de morte.\n",
    "\n",
    "Quanto mais escuro o quadradinho, menor é a correlação entre as variáveis."
   ]
  },
  {
   "cell_type": "code",
   "execution_count": 12,
   "metadata": {},
   "outputs": [
    {
     "data": {
      "text/html": [
       "<div>\n",
       "<style scoped>\n",
       "    .dataframe tbody tr th:only-of-type {\n",
       "        vertical-align: middle;\n",
       "    }\n",
       "\n",
       "    .dataframe tbody tr th {\n",
       "        vertical-align: top;\n",
       "    }\n",
       "\n",
       "    .dataframe thead th {\n",
       "        text-align: right;\n",
       "    }\n",
       "</style>\n",
       "<table border=\"1\" class=\"dataframe\">\n",
       "  <thead>\n",
       "    <tr style=\"text-align: right;\">\n",
       "      <th></th>\n",
       "      <th>age</th>\n",
       "      <th>anaemia</th>\n",
       "      <th>creatinine_phosphokinase</th>\n",
       "      <th>diabetes</th>\n",
       "      <th>ejection_fraction</th>\n",
       "      <th>high_blood_pressure</th>\n",
       "      <th>platelets</th>\n",
       "      <th>serum_creatinine</th>\n",
       "      <th>serum_sodium</th>\n",
       "      <th>sex</th>\n",
       "      <th>smoking</th>\n",
       "      <th>time</th>\n",
       "    </tr>\n",
       "    <tr>\n",
       "      <th>DEATH_EVENT</th>\n",
       "      <th></th>\n",
       "      <th></th>\n",
       "      <th></th>\n",
       "      <th></th>\n",
       "      <th></th>\n",
       "      <th></th>\n",
       "      <th></th>\n",
       "      <th></th>\n",
       "      <th></th>\n",
       "      <th></th>\n",
       "      <th></th>\n",
       "      <th></th>\n",
       "    </tr>\n",
       "  </thead>\n",
       "  <tbody>\n",
       "    <tr>\n",
       "      <td>0</td>\n",
       "      <td>58.761906</td>\n",
       "      <td>0.408867</td>\n",
       "      <td>540.054187</td>\n",
       "      <td>0.418719</td>\n",
       "      <td>40.26601</td>\n",
       "      <td>0.325123</td>\n",
       "      <td>266657.489901</td>\n",
       "      <td>1.184877</td>\n",
       "      <td>137.216749</td>\n",
       "      <td>0.650246</td>\n",
       "      <td>0.325123</td>\n",
       "      <td>158.339901</td>\n",
       "    </tr>\n",
       "    <tr>\n",
       "      <td>1</td>\n",
       "      <td>65.215281</td>\n",
       "      <td>0.479167</td>\n",
       "      <td>670.197917</td>\n",
       "      <td>0.416667</td>\n",
       "      <td>33.46875</td>\n",
       "      <td>0.406250</td>\n",
       "      <td>256381.044792</td>\n",
       "      <td>1.835833</td>\n",
       "      <td>135.375000</td>\n",
       "      <td>0.645833</td>\n",
       "      <td>0.312500</td>\n",
       "      <td>70.885417</td>\n",
       "    </tr>\n",
       "  </tbody>\n",
       "</table>\n",
       "</div>"
      ],
      "text/plain": [
       "                   age   anaemia  creatinine_phosphokinase  diabetes  \\\n",
       "DEATH_EVENT                                                            \n",
       "0            58.761906  0.408867                540.054187  0.418719   \n",
       "1            65.215281  0.479167                670.197917  0.416667   \n",
       "\n",
       "             ejection_fraction  high_blood_pressure      platelets  \\\n",
       "DEATH_EVENT                                                          \n",
       "0                     40.26601             0.325123  266657.489901   \n",
       "1                     33.46875             0.406250  256381.044792   \n",
       "\n",
       "             serum_creatinine  serum_sodium       sex   smoking        time  \n",
       "DEATH_EVENT                                                                  \n",
       "0                    1.184877    137.216749  0.650246  0.325123  158.339901  \n",
       "1                    1.835833    135.375000  0.645833  0.312500   70.885417  "
      ]
     },
     "execution_count": 12,
     "metadata": {},
     "output_type": "execute_result"
    }
   ],
   "source": [
    "dados.groupby('DEATH_EVENT').mean()"
   ]
  },
  {
   "cell_type": "code",
   "execution_count": 13,
   "metadata": {
    "scrolled": true
   },
   "outputs": [],
   "source": [
    "c = dados.corr()"
   ]
  },
  {
   "cell_type": "code",
   "execution_count": 14,
   "metadata": {},
   "outputs": [
    {
     "data": {
      "text/plain": [
       "<matplotlib.axes._subplots.AxesSubplot at 0x1c286ab990>"
      ]
     },
     "execution_count": 14,
     "metadata": {},
     "output_type": "execute_result"
    },
    {
     "data": {
      "image/png": "[encoded data removed]",
      "text/plain": [
       "<Figure size 432x288 with 2 Axes>"
      ]
     },
     "metadata": {
      "needs_background": "light"
     },
     "output_type": "display_data"
    }
   ],
   "source": [
    "sns.heatmap(c)"
   ]
  },
  {
   "cell_type": "markdown",
   "metadata": {},
   "source": [
    "## Modelos de Predição"
   ]
  },
  {
   "cell_type": "markdown",
   "metadata": {},
   "source": [
    "Para fazermos a predição da morte do paciente, vamos fazer dois modelos de machine learning - a regressão linear e a árvore de decisão - afim de compararmos qual dos dois é mais eficiente em realizar as previsões que queremos, e tirar conclusões a partir disso."
   ]
  },
  {
   "cell_type": "markdown",
   "metadata": {},
   "source": [
    "## Regressão logística"
   ]
  },
  {
   "cell_type": "markdown",
   "metadata": {},
   "source": [
    "A regressão logística é um modelo de predição de valores tomados por uma variável categórica, frequentemente binária, a partir de uma série de variáveis qualitativas, ou quantitativas."
   ]
  },
  {
   "cell_type": "markdown",
   "metadata": {},
   "source": [
    "**Descrição**\n",
    "\n",
    "A equação da regressão logística é escrita da seguinte forma:\n"
   ]
  },
  {
   "cell_type": "markdown",
   "metadata": {},
   "source": [
    "Primeiramente, implementamos a regressão logísitica para a nossa base de dados \"dados\", analisando cada uma das colunas em função do evento de morte \"DEATH_EVENT\"."
   ]
  },
  {
   "cell_type": "code",
   "execution_count": 15,
   "metadata": {
    "scrolled": true
   },
   "outputs": [],
   "source": [
    "# Função utilitária para fazer a regressão com constante adicionada\n",
    "def regress(Y,X):\n",
    "    '''\n",
    "    Y: coluna do DataFrame utilizada como variável resposta (TARGET)\n",
    "    X: coluna(s) do DataFrame utilizadas como variável(is) explicativas (FEATURES)\n",
    "    '''\n",
    "    X_cp = sm.add_constant(X)\n",
    "    model = sm.Logit(Y,X_cp.astype(float))\n",
    "    results = model.fit()\n",
    "    \n",
    "    return results"
   ]
  },
  {
   "cell_type": "code",
   "execution_count": 16,
   "metadata": {},
   "outputs": [
    {
     "name": "stdout",
     "output_type": "stream",
     "text": [
      "Optimization terminated successfully.\n",
      "         Current function value: 0.367147\n",
      "         Iterations 7\n"
     ]
    },
    {
     "data": {
      "text/html": [
       "<table class=\"simpletable\">\n",
       "<caption>Logit Regression Results</caption>\n",
       "<tr>\n",
       "  <th>Dep. Variable:</th>      <td>DEATH_EVENT</td>   <th>  No. Observations:  </th>  <td>   299</td>  \n",
       "</tr>\n",
       "<tr>\n",
       "  <th>Model:</th>                 <td>Logit</td>      <th>  Df Residuals:      </th>  <td>   286</td>  \n",
       "</tr>\n",
       "<tr>\n",
       "  <th>Method:</th>                 <td>MLE</td>       <th>  Df Model:          </th>  <td>    12</td>  \n",
       "</tr>\n",
       "<tr>\n",
       "  <th>Date:</th>            <td>Tue, 24 Nov 2020</td> <th>  Pseudo R-squ.:     </th>  <td>0.4151</td>  \n",
       "</tr>\n",
       "<tr>\n",
       "  <th>Time:</th>                <td>15:35:46</td>     <th>  Log-Likelihood:    </th> <td> -109.78</td> \n",
       "</tr>\n",
       "<tr>\n",
       "  <th>converged:</th>             <td>True</td>       <th>  LL-Null:           </th> <td> -187.67</td> \n",
       "</tr>\n",
       "<tr>\n",
       "  <th>Covariance Type:</th>     <td>nonrobust</td>    <th>  LLR p-value:       </th> <td>3.771e-27</td>\n",
       "</tr>\n",
       "</table>\n",
       "<table class=\"simpletable\">\n",
       "<tr>\n",
       "              <td></td>                <th>coef</th>     <th>std err</th>      <th>z</th>      <th>P>|z|</th>  <th>[0.025</th>    <th>0.975]</th>  \n",
       "</tr>\n",
       "<tr>\n",
       "  <th>const</th>                    <td>   10.1849</td> <td>    5.657</td> <td>    1.801</td> <td> 0.072</td> <td>   -0.902</td> <td>   21.272</td>\n",
       "</tr>\n",
       "<tr>\n",
       "  <th>age</th>                      <td>    0.0474</td> <td>    0.016</td> <td>    3.001</td> <td> 0.003</td> <td>    0.016</td> <td>    0.078</td>\n",
       "</tr>\n",
       "<tr>\n",
       "  <th>anaemia</th>                  <td>   -0.0075</td> <td>    0.360</td> <td>   -0.021</td> <td> 0.983</td> <td>   -0.714</td> <td>    0.699</td>\n",
       "</tr>\n",
       "<tr>\n",
       "  <th>creatinine_phosphokinase</th> <td>    0.0002</td> <td>    0.000</td> <td>    1.249</td> <td> 0.212</td> <td>   -0.000</td> <td>    0.001</td>\n",
       "</tr>\n",
       "<tr>\n",
       "  <th>diabetes</th>                 <td>    0.1451</td> <td>    0.351</td> <td>    0.413</td> <td> 0.679</td> <td>   -0.543</td> <td>    0.833</td>\n",
       "</tr>\n",
       "<tr>\n",
       "  <th>ejection_fraction</th>        <td>   -0.0767</td> <td>    0.016</td> <td>   -4.695</td> <td> 0.000</td> <td>   -0.109</td> <td>   -0.045</td>\n",
       "</tr>\n",
       "<tr>\n",
       "  <th>high_blood_pressure</th>      <td>   -0.1027</td> <td>    0.359</td> <td>   -0.286</td> <td> 0.775</td> <td>   -0.806</td> <td>    0.600</td>\n",
       "</tr>\n",
       "<tr>\n",
       "  <th>platelets</th>                <td>  -1.2e-06</td> <td> 1.89e-06</td> <td>   -0.635</td> <td> 0.525</td> <td> -4.9e-06</td> <td>  2.5e-06</td>\n",
       "</tr>\n",
       "<tr>\n",
       "  <th>serum_creatinine</th>         <td>    0.6661</td> <td>    0.181</td> <td>    3.670</td> <td> 0.000</td> <td>    0.310</td> <td>    1.022</td>\n",
       "</tr>\n",
       "<tr>\n",
       "  <th>serum_sodium</th>             <td>   -0.0670</td> <td>    0.040</td> <td>   -1.686</td> <td> 0.092</td> <td>   -0.145</td> <td>    0.011</td>\n",
       "</tr>\n",
       "<tr>\n",
       "  <th>sex</th>                      <td>   -0.5337</td> <td>    0.414</td> <td>   -1.289</td> <td> 0.197</td> <td>   -1.345</td> <td>    0.278</td>\n",
       "</tr>\n",
       "<tr>\n",
       "  <th>smoking</th>                  <td>   -0.0135</td> <td>    0.413</td> <td>   -0.033</td> <td> 0.974</td> <td>   -0.822</td> <td>    0.795</td>\n",
       "</tr>\n",
       "<tr>\n",
       "  <th>time</th>                     <td>   -0.0210</td> <td>    0.003</td> <td>   -6.981</td> <td> 0.000</td> <td>   -0.027</td> <td>   -0.015</td>\n",
       "</tr>\n",
       "</table>"
      ],
      "text/plain": [
       "<class 'statsmodels.iolib.summary.Summary'>\n",
       "\"\"\"\n",
       "                           Logit Regression Results                           \n",
       "==============================================================================\n",
       "Dep. Variable:            DEATH_EVENT   No. Observations:                  299\n",
       "Model:                          Logit   Df Residuals:                      286\n",
       "Method:                           MLE   Df Model:                           12\n",
       "Date:                Tue, 24 Nov 2020   Pseudo R-squ.:                  0.4151\n",
       "Time:                        15:35:46   Log-Likelihood:                -109.78\n",
       "converged:                       True   LL-Null:                       -187.67\n",
       "Covariance Type:            nonrobust   LLR p-value:                 3.771e-27\n",
       "============================================================================================\n",
       "                               coef    std err          z      P>|z|      [0.025      0.975]\n",
       "--------------------------------------------------------------------------------------------\n",
       "const                       10.1849      5.657      1.801      0.072      -0.902      21.272\n",
       "age                          0.0474      0.016      3.001      0.003       0.016       0.078\n",
       "anaemia                     -0.0075      0.360     -0.021      0.983      -0.714       0.699\n",
       "creatinine_phosphokinase     0.0002      0.000      1.249      0.212      -0.000       0.001\n",
       "diabetes                     0.1451      0.351      0.413      0.679      -0.543       0.833\n",
       "ejection_fraction           -0.0767      0.016     -4.695      0.000      -0.109      -0.045\n",
       "high_blood_pressure         -0.1027      0.359     -0.286      0.775      -0.806       0.600\n",
       "platelets                  -1.2e-06   1.89e-06     -0.635      0.525    -4.9e-06     2.5e-06\n",
       "serum_creatinine             0.6661      0.181      3.670      0.000       0.310       1.022\n",
       "serum_sodium                -0.0670      0.040     -1.686      0.092      -0.145       0.011\n",
       "sex                         -0.5337      0.414     -1.289      0.197      -1.345       0.278\n",
       "smoking                     -0.0135      0.413     -0.033      0.974      -0.822       0.795\n",
       "time                        -0.0210      0.003     -6.981      0.000      -0.027      -0.015\n",
       "============================================================================================\n",
       "\"\"\""
      ]
     },
     "execution_count": 16,
     "metadata": {},
     "output_type": "execute_result"
    }
   ],
   "source": [
    "# Implementando o modelo logístico para toda base de dados\n",
    "X = dados[['age', 'anaemia','creatinine_phosphokinase', 'diabetes', 'ejection_fraction','high_blood_pressure','platelets','serum_creatinine', 'serum_sodium','sex','smoking','time']]\n",
    "Y = dados['DEATH_EVENT']\n",
    "\n",
    "results = regress(Y,X)\n",
    "results.summary()"
   ]
  },
  {
   "cell_type": "markdown",
   "metadata": {},
   "source": [
    "Então, dividimos o dataframe em uma base de <b>treinamento</b> e outra de <b>teste</b>, a fim de verificar a eficácia do modelo logístico não apenas para adequação na base de dados, mas também na predição. "
   ]
  },
  {
   "cell_type": "code",
   "execution_count": 17,
   "metadata": {},
   "outputs": [],
   "source": [
    "# Separando o modelo em teste e treino\n",
    "from sklearn.model_selection import train_test_split\n",
    "X_train, X_test, Y_train, Y_test = train_test_split(X, Y, test_size=0.33, random_state=42)"
   ]
  },
  {
   "cell_type": "code",
   "execution_count": 18,
   "metadata": {},
   "outputs": [
    {
     "name": "stdout",
     "output_type": "stream",
     "text": [
      "Optimization terminated successfully.\n",
      "         Current function value: 0.314518\n",
      "         Iterations 8\n"
     ]
    },
    {
     "data": {
      "text/html": [
       "<table class=\"simpletable\">\n",
       "<caption>Logit Regression Results</caption>\n",
       "<tr>\n",
       "  <th>Dep. Variable:</th>      <td>DEATH_EVENT</td>   <th>  No. Observations:  </th>  <td>   200</td>  \n",
       "</tr>\n",
       "<tr>\n",
       "  <th>Model:</th>                 <td>Logit</td>      <th>  Df Residuals:      </th>  <td>   187</td>  \n",
       "</tr>\n",
       "<tr>\n",
       "  <th>Method:</th>                 <td>MLE</td>       <th>  Df Model:          </th>  <td>    12</td>  \n",
       "</tr>\n",
       "<tr>\n",
       "  <th>Date:</th>            <td>Tue, 24 Nov 2020</td> <th>  Pseudo R-squ.:     </th>  <td>0.4608</td>  \n",
       "</tr>\n",
       "<tr>\n",
       "  <th>Time:</th>                <td>15:35:47</td>     <th>  Log-Likelihood:    </th> <td> -62.904</td> \n",
       "</tr>\n",
       "<tr>\n",
       "  <th>converged:</th>             <td>True</td>       <th>  LL-Null:           </th> <td> -116.65</td> \n",
       "</tr>\n",
       "<tr>\n",
       "  <th>Covariance Type:</th>     <td>nonrobust</td>    <th>  LLR p-value:       </th> <td>1.869e-17</td>\n",
       "</tr>\n",
       "</table>\n",
       "<table class=\"simpletable\">\n",
       "<tr>\n",
       "              <td></td>                <th>coef</th>     <th>std err</th>      <th>z</th>      <th>P>|z|</th>  <th>[0.025</th>    <th>0.975]</th>  \n",
       "</tr>\n",
       "<tr>\n",
       "  <th>const</th>                    <td>   12.5156</td> <td>    7.892</td> <td>    1.586</td> <td> 0.113</td> <td>   -2.952</td> <td>   27.983</td>\n",
       "</tr>\n",
       "<tr>\n",
       "  <th>age</th>                      <td>    0.0527</td> <td>    0.022</td> <td>    2.426</td> <td> 0.015</td> <td>    0.010</td> <td>    0.095</td>\n",
       "</tr>\n",
       "<tr>\n",
       "  <th>anaemia</th>                  <td>   -0.4764</td> <td>    0.516</td> <td>   -0.923</td> <td> 0.356</td> <td>   -1.488</td> <td>    0.535</td>\n",
       "</tr>\n",
       "<tr>\n",
       "  <th>creatinine_phosphokinase</th> <td> 8.099e-05</td> <td>    0.000</td> <td>    0.372</td> <td> 0.710</td> <td>   -0.000</td> <td>    0.001</td>\n",
       "</tr>\n",
       "<tr>\n",
       "  <th>diabetes</th>                 <td>    0.1414</td> <td>    0.478</td> <td>    0.296</td> <td> 0.767</td> <td>   -0.794</td> <td>    1.077</td>\n",
       "</tr>\n",
       "<tr>\n",
       "  <th>ejection_fraction</th>        <td>   -0.0802</td> <td>    0.023</td> <td>   -3.550</td> <td> 0.000</td> <td>   -0.124</td> <td>   -0.036</td>\n",
       "</tr>\n",
       "<tr>\n",
       "  <th>high_blood_pressure</th>      <td>   -0.2161</td> <td>    0.484</td> <td>   -0.446</td> <td> 0.655</td> <td>   -1.165</td> <td>    0.733</td>\n",
       "</tr>\n",
       "<tr>\n",
       "  <th>platelets</th>                <td>-2.265e-06</td> <td> 2.46e-06</td> <td>   -0.919</td> <td> 0.358</td> <td>-7.09e-06</td> <td> 2.56e-06</td>\n",
       "</tr>\n",
       "<tr>\n",
       "  <th>serum_creatinine</th>         <td>    0.8644</td> <td>    0.225</td> <td>    3.849</td> <td> 0.000</td> <td>    0.424</td> <td>    1.304</td>\n",
       "</tr>\n",
       "<tr>\n",
       "  <th>serum_sodium</th>             <td>   -0.0821</td> <td>    0.055</td> <td>   -1.507</td> <td> 0.132</td> <td>   -0.189</td> <td>    0.025</td>\n",
       "</tr>\n",
       "<tr>\n",
       "  <th>sex</th>                      <td>   -1.1341</td> <td>    0.551</td> <td>   -2.058</td> <td> 0.040</td> <td>   -2.214</td> <td>   -0.054</td>\n",
       "</tr>\n",
       "<tr>\n",
       "  <th>smoking</th>                  <td>    0.4080</td> <td>    0.589</td> <td>    0.693</td> <td> 0.488</td> <td>   -0.746</td> <td>    1.562</td>\n",
       "</tr>\n",
       "<tr>\n",
       "  <th>time</th>                     <td>   -0.0236</td> <td>    0.004</td> <td>   -5.465</td> <td> 0.000</td> <td>   -0.032</td> <td>   -0.015</td>\n",
       "</tr>\n",
       "</table>"
      ],
      "text/plain": [
       "<class 'statsmodels.iolib.summary.Summary'>\n",
       "\"\"\"\n",
       "                           Logit Regression Results                           \n",
       "==============================================================================\n",
       "Dep. Variable:            DEATH_EVENT   No. Observations:                  200\n",
       "Model:                          Logit   Df Residuals:                      187\n",
       "Method:                           MLE   Df Model:                           12\n",
       "Date:                Tue, 24 Nov 2020   Pseudo R-squ.:                  0.4608\n",
       "Time:                        15:35:47   Log-Likelihood:                -62.904\n",
       "converged:                       True   LL-Null:                       -116.65\n",
       "Covariance Type:            nonrobust   LLR p-value:                 1.869e-17\n",
       "============================================================================================\n",
       "                               coef    std err          z      P>|z|      [0.025      0.975]\n",
       "--------------------------------------------------------------------------------------------\n",
       "const                       12.5156      7.892      1.586      0.113      -2.952      27.983\n",
       "age                          0.0527      0.022      2.426      0.015       0.010       0.095\n",
       "anaemia                     -0.4764      0.516     -0.923      0.356      -1.488       0.535\n",
       "creatinine_phosphokinase  8.099e-05      0.000      0.372      0.710      -0.000       0.001\n",
       "diabetes                     0.1414      0.478      0.296      0.767      -0.794       1.077\n",
       "ejection_fraction           -0.0802      0.023     -3.550      0.000      -0.124      -0.036\n",
       "high_blood_pressure         -0.2161      0.484     -0.446      0.655      -1.165       0.733\n",
       "platelets                -2.265e-06   2.46e-06     -0.919      0.358   -7.09e-06    2.56e-06\n",
       "serum_creatinine             0.8644      0.225      3.849      0.000       0.424       1.304\n",
       "serum_sodium                -0.0821      0.055     -1.507      0.132      -0.189       0.025\n",
       "sex                         -1.1341      0.551     -2.058      0.040      -2.214      -0.054\n",
       "smoking                      0.4080      0.589      0.693      0.488      -0.746       1.562\n",
       "time                        -0.0236      0.004     -5.465      0.000      -0.032      -0.015\n",
       "============================================================================================\n",
       "\"\"\""
      ]
     },
     "execution_count": 18,
     "metadata": {},
     "output_type": "execute_result"
    }
   ],
   "source": [
    "# Implementando o modelo logístico apenas para a base de treinamento\n",
    "new_results = regress(Y_train,X_train)\n",
    "new_results.summary()"
   ]
  },
  {
   "cell_type": "code",
   "execution_count": 19,
   "metadata": {},
   "outputs": [],
   "source": [
    "# Utilizando o modelo para predição na base de testes\n",
    "X_cp = sm.add_constant(X_test)\n",
    "Y_pred = new_results.predict(X_cp)\n",
    "Y_pred = 1*(Y_pred>0.5)"
   ]
  },
  {
   "cell_type": "markdown",
   "metadata": {},
   "source": [
    "#### Acurácia"
   ]
  },
  {
   "cell_type": "code",
   "execution_count": 20,
   "metadata": {},
   "outputs": [
    {
     "name": "stdout",
     "output_type": "stream",
     "text": [
      "Acurácia do classificador de regressão logística na base de teste: 0.76\n"
     ]
    }
   ],
   "source": [
    "# Verficação da acurácia\n",
    "from sklearn.linear_model import LogisticRegression\n",
    "logreg = LogisticRegression()\n",
    "logreg.fit(X_train, Y_train)\n",
    "print('Acurácia do classificador de regressão logística na base de teste: {:.2f}'.format(logreg.score(X_test, Y_test)))"
   ]
  },
  {
   "cell_type": "markdown",
   "metadata": {},
   "source": [
    "#### Matriz de confusão"
   ]
  },
  {
   "cell_type": "code",
   "execution_count": 21,
   "metadata": {},
   "outputs": [
    {
     "ename": "ImportError",
     "evalue": "cannot import name 'plot_confusion_matrix' from 'sklearn.metrics' (/Users/roizenblatt/opt/anaconda3/lib/python3.7/site-packages/sklearn/metrics/__init__.py)",
     "output_type": "error",
     "traceback": [
      "\u001b[0;31m---------------------------------------------------------------------------\u001b[0m",
      "\u001b[0;31mImportError\u001b[0m                               Traceback (most recent call last)",
      "\u001b[0;32m<ipython-input-21-87f115b674d4>\u001b[0m in \u001b[0;36m<module>\u001b[0;34m\u001b[0m\n\u001b[0;32m----> 1\u001b[0;31m \u001b[0;32mfrom\u001b[0m \u001b[0msklearn\u001b[0m\u001b[0;34m.\u001b[0m\u001b[0mmetrics\u001b[0m \u001b[0;32mimport\u001b[0m \u001b[0mplot_confusion_matrix\u001b[0m\u001b[0;34m\u001b[0m\u001b[0;34m\u001b[0m\u001b[0m\n\u001b[0m\u001b[1;32m      2\u001b[0m \u001b[0;34m\u001b[0m\u001b[0m\n\u001b[1;32m      3\u001b[0m \u001b[0mprint\u001b[0m\u001b[0;34m(\u001b[0m\u001b[0;34m\"--------------------------\"\u001b[0m\u001b[0;34m)\u001b[0m\u001b[0;34m\u001b[0m\u001b[0;34m\u001b[0m\u001b[0m\n\u001b[1;32m      4\u001b[0m \u001b[0mprint\u001b[0m\u001b[0;34m(\u001b[0m\u001b[0;34m\"Legenda\"\u001b[0m\u001b[0;34m)\u001b[0m\u001b[0;34m\u001b[0m\u001b[0;34m\u001b[0m\u001b[0m\n\u001b[1;32m      5\u001b[0m \u001b[0mprint\u001b[0m\u001b[0;34m(\u001b[0m\u001b[0;34m\"0: morreu\"\u001b[0m\u001b[0;34m)\u001b[0m\u001b[0;34m\u001b[0m\u001b[0;34m\u001b[0m\u001b[0m\n",
      "\u001b[0;31mImportError\u001b[0m: cannot import name 'plot_confusion_matrix' from 'sklearn.metrics' (/Users/roizenblatt/opt/anaconda3/lib/python3.7/site-packages/sklearn/metrics/__init__.py)"
     ]
    }
   ],
   "source": [
    "from sklearn.metrics import plot_confusion_matrix\n",
    "\n",
    "print(\"--------------------------\")\n",
    "print(\"Legenda\")\n",
    "print(\"0: morreu\")\n",
    "print(\"1: sobreviveu\")\n",
    "print(\"--------------------------\")\n",
    "plot_confusion_matrix(logreg, X_test, Y_test)\n",
    "plt.show()"
   ]
  },
  {
   "cell_type": "markdown",
   "metadata": {},
   "source": [
    "Esse resultado indica que temos 54+22 previsões corretas e 20+3 previsões incorretas."
   ]
  },
  {
   "cell_type": "markdown",
   "metadata": {},
   "source": [
    "#### Iteração"
   ]
  },
  {
   "cell_type": "markdown",
   "metadata": {},
   "source": [
    "Nota-se que, como há 76 previsões corretas e 23 incorretas, o modelo não é muito preciso. Considerendo o valor de $\\alpha$ = 5%, essa ineficácia pode ser atribuída ao fato de que a regressão logística incluía muitos dados que pouco influenciavam o evento de morte. Verifcou-se que os fatores que mais influenciavam na fatalidade eram: idade, fração de ejeção, soro creatinina e tempo. Portanto, decidimos tentar implementar novamente o modelo logístico, mas, dessa vez, considerando apenas essas colunas."
   ]
  },
  {
   "cell_type": "code",
   "execution_count": null,
   "metadata": {},
   "outputs": [],
   "source": [
    "X_iterado = dados[['age', 'ejection_fraction', 'serum_sodium','time']]\n",
    "Y_iterado = dados['DEATH_EVENT']\n",
    "\n",
    "from sklearn.model_selection import train_test_split\n",
    "X_iterado_train, X_iterado_test, Y_iterado_train, Y_iterado_test = train_test_split(X_iterado, Y_iterado, test_size=0.33, random_state=42)\n",
    "\n",
    "results_iterado = regress(Y_iterado_train,X_iterado_train)\n",
    "results_iterado.summary()"
   ]
  },
  {
   "cell_type": "code",
   "execution_count": null,
   "metadata": {},
   "outputs": [],
   "source": [
    "X_iterado_cp = sm.add_constant(X_iterado_test)\n",
    "Y_iterado_pred = results_iterado.predict(X_iterado_cp)\n",
    "Y_iterado_pred = 1*(Y_iterado_pred>0.5)"
   ]
  },
  {
   "cell_type": "code",
   "execution_count": null,
   "metadata": {},
   "outputs": [],
   "source": [
    "# Verficação da acurácia da nova base de dados\n",
    "logreg.fit(X_iterado_train, Y_iterado_train)\n",
    "print('Acurácia do classificador de regressão logística na base de teste iterada: {:.2f}'.format(logreg.score(X_iterado_test, Y_iterado_test)))"
   ]
  },
  {
   "cell_type": "markdown",
   "metadata": {},
   "source": [
    "Logo nota-se que a acurácia do novo modelo é 6% maior do que a base de dados original, que considerava todas as variáveis. Vamos verificar, ainda, como se apresenta a nova matriz de confusão."
   ]
  },
  {
   "cell_type": "code",
   "execution_count": null,
   "metadata": {},
   "outputs": [],
   "source": [
    "print(\"--------------------------\")\n",
    "print(\"Legenda\")\n",
    "print(\"0: morreu\")\n",
    "print(\"1: sobreviveu\")\n",
    "print(\"--------------------------\")\n",
    "logreg_iterado = logreg.fit(X_iterado_train, Y_iterado_train)\n",
    "plot_confusion_matrix(logreg_iterado, X_iterado_test, Y_iterado_test)\n",
    "plt.show()"
   ]
  },
  {
   "cell_type": "markdown",
   "metadata": {},
   "source": [
    "Esse resultado indica que temos 54+28 previsões corretas e 14+3 previsões incorretas."
   ]
  },
  {
   "cell_type": "markdown",
   "metadata": {},
   "source": [
    "## Decision Tree Classifier"
   ]
  },
  {
   "cell_type": "code",
   "execution_count": null,
   "metadata": {},
   "outputs": [],
   "source": [
    "from sklearn.tree import DecisionTreeClassifier\n",
    "\n",
    "destree = DecisionTreeClassifier(random_state=1)\n",
    "destree = destree.fit(X_train,Y_train)\n",
    "\n",
    "Y_decision_pred = destree.predict(X_test)\n",
    "Y_decision_pred = pd.Series(Y_decision_pred)"
   ]
  },
  {
   "cell_type": "markdown",
   "metadata": {},
   "source": [
    "#### Acurácia"
   ]
  },
  {
   "cell_type": "code",
   "execution_count": null,
   "metadata": {},
   "outputs": [],
   "source": [
    "print('Acurácia do classificador Decision Tree na base de teste: {:.2f}'.format(destree.score(X_test, Y_test)))"
   ]
  },
  {
   "cell_type": "markdown",
   "metadata": {},
   "source": [
    "#### Matriz de confusão"
   ]
  },
  {
   "cell_type": "code",
   "execution_count": null,
   "metadata": {
    "scrolled": true
   },
   "outputs": [],
   "source": [
    "print(\"--------------------------\")\n",
    "print(\"Legenda\")\n",
    "print(\"0: morreu\")\n",
    "print(\"1: sobreviveu\")\n",
    "print(\"--------------------------\")\n",
    "plot_confusion_matrix(destree, X_test, Y_test)"
   ]
  },
  {
   "cell_type": "markdown",
   "metadata": {},
   "source": [
    "#### Iteração"
   ]
  },
  {
   "cell_type": "markdown",
   "metadata": {},
   "source": [
    "Assim como feito no modelo de regressão logística, aqui também filtramos os dados, para melhorar a acurácia do modelo."
   ]
  },
  {
   "cell_type": "code",
   "execution_count": null,
   "metadata": {},
   "outputs": [],
   "source": [
    "destree_iterado = DecisionTreeClassifier(random_state=1)\n",
    "destree_iterado = destree.fit(X_iterado_train,Y_iterado_train)\n",
    "\n",
    "Y_decision_iterado_pred = destree_iterado.predict(X_iterado_test)\n",
    "Y_decision_iterado_pred = pd.Series(Y_decision_iterado_pred)"
   ]
  },
  {
   "cell_type": "code",
   "execution_count": null,
   "metadata": {},
   "outputs": [],
   "source": [
    "print('Acurácia do classificador Desicion Forest na base de teste iterada: {:.2f}'.format(destree_iterado.score(X_iterado_test, Y_iterado_test)))"
   ]
  },
  {
   "cell_type": "code",
   "execution_count": null,
   "metadata": {},
   "outputs": [],
   "source": [
    "print(\"--------------------------\")\n",
    "print(\"Legenda\")\n",
    "print(\"0: morreu\")\n",
    "print(\"1: sobreviveu\")\n",
    "print(\"--------------------------\")\n",
    "plot_confusion_matrix(destree_iterado, X_iterado_test, Y_iterado_test)"
   ]
  },
  {
   "cell_type": "markdown",
   "metadata": {},
   "source": [
    "Vemos que a regressão logística tem uma acurácia maior se comparada com a árvore de decisão."
   ]
  },
  {
   "cell_type": "markdown",
   "metadata": {},
   "source": [
    "## Random Forest Classifier"
   ]
  },
  {
   "cell_type": "code",
   "execution_count": null,
   "metadata": {},
   "outputs": [],
   "source": [
    "from sklearn.ensemble import RandomForestClassifier\n",
    "randfor = RandomForestClassifier(n_estimators = 1000, random_state = 42,n_jobs=-1)\n",
    "randfor = randfor.fit(X_train,Y_train)\n",
    "\n",
    "Y_random_pred = randfor.predict(X_test)\n",
    "Y_random_pred = pd.Series(Y_random_pred)\n",
    "Y_random_pred = 1*(Y_random_pred>0.5)"
   ]
  },
  {
   "cell_type": "markdown",
   "metadata": {},
   "source": [
    "#### Acurácia"
   ]
  },
  {
   "cell_type": "code",
   "execution_count": null,
   "metadata": {},
   "outputs": [],
   "source": [
    "print('Acurácia do classificador Random Forest na base de teste: {:.2f}'.format(randfor.score(X_test, Y_test)))"
   ]
  },
  {
   "cell_type": "markdown",
   "metadata": {},
   "source": [
    "#### Matriz de confusão"
   ]
  },
  {
   "cell_type": "code",
   "execution_count": null,
   "metadata": {},
   "outputs": [],
   "source": [
    "confusion_matrix_random = confusion_matrix(Y_test, Y_random_pred)\n",
    "print(confusion_matrix_random)"
   ]
  },
  {
   "cell_type": "markdown",
   "metadata": {},
   "source": [
    "#### Iteração"
   ]
  },
  {
   "cell_type": "code",
   "execution_count": null,
   "metadata": {},
   "outputs": [],
   "source": [
    "randfor_iterado = RandomForestClassifier(n_estimators = 1000, random_state = 42,n_jobs=-1)\n",
    "randfor_iterado = randfor_iterado.fit(X_iterado_train,Y_iterado_train)\n",
    "\n",
    "Y_random_iterado_pred = randfor_iterado.predict(X_iterado_test)\n",
    "Y_random_iterado_pred = pd.Series(Y_random_iterado_pred)\n",
    "Y_random_iterado_pred = 1*(Y_random_iterado_pred>0.5)"
   ]
  },
  {
   "cell_type": "code",
   "execution_count": null,
   "metadata": {},
   "outputs": [],
   "source": [
    "print('Acurácia do classificador Random Forest na base de teste iterada: {:.2f}'.format(randfor_iterado.score(X_iterado_test, Y_iterado_test)))"
   ]
  },
  {
   "cell_type": "code",
   "execution_count": null,
   "metadata": {},
   "outputs": [],
   "source": [
    "confusion_matrix_random_iterado = confusion_matrix(Y_iterado_test, Y_random_iterado_pred)\n",
    "print(confusion_matrix_random_iterado)"
   ]
  },
  {
   "cell_type": "markdown",
   "metadata": {},
   "source": [
    "O modelo utilizado foi adequado para responder nossa pergunta?\n",
    "\n",
    "Conseguimos prever com 80% de acerto se a pessoa vai sobreviver\n",
    "\n",
    "Interpretação da matriz de confusão"
   ]
  },
  {
   "cell_type": "code",
   "execution_count": null,
   "metadata": {},
   "outputs": [],
   "source": []
  }
 ],
 "metadata": {
  "kernelspec": {
   "display_name": "Python 3",
   "language": "python",
   "name": "python3"
  },
  "language_info": {
   "codemirror_mode": {
    "name": "ipython",
    "version": 3
   },
   "file_extension": ".py",
   "mimetype": "text/x-python",
   "name": "python",
   "nbconvert_exporter": "python",
   "pygments_lexer": "ipython3",
   "version": "3.7.4"
  }
 },
 "nbformat": 4,
 "nbformat_minor": 4
}
